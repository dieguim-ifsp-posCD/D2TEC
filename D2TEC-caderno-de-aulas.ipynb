{
 "cells": [
  {
   "cell_type": "markdown",
   "id": "4bb6aef6",
   "metadata": {},
   "source": [
    "# D2TEC - Tecnologias de Big Data\n",
    "\n",
    "- Professora [Bianca Maria Pedrosa](https://lattes.cnpq.br/5512756726602398)\n",
    "- Email [bpedrosa@ifsp.edu.br](mailto:bpedrosa@ifsp.edu.br)"
   ]
  }
 ],
 "metadata": {
  "kernelspec": {
   "display_name": "Python 3",
   "language": "python",
   "name": "python3"
  },
  "language_info": {
   "codemirror_mode": {
    "name": "ipython",
    "version": 3
   },
   "file_extension": ".py",
   "mimetype": "text/x-python",
   "name": "python",
   "nbconvert_exporter": "python",
   "pygments_lexer": "ipython3",
   "version": "3.9.2"
  }
 },
 "nbformat": 4,
 "nbformat_minor": 5
}
