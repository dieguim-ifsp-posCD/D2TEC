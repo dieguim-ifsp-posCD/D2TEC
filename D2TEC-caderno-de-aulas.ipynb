{
 "cells": [
  {
   "cell_type": "markdown",
   "id": "4bb6aef6",
   "metadata": {},
   "source": [
    "# D2TEC - Tecnologias de Big Data\n",
    "\n",
    "- Professora [Bianca Maria Pedrosa](https://lattes.cnpq.br/5512756726602398)\n",
    "- Email [bpedrosa@ifsp.edu.br](mailto:bpedrosa@ifsp.edu.br)\n"
   ]
  },
  {
   "cell_type": "markdown",
   "id": "7b926f80-2291-463b-89e7-6799288e44f2",
   "metadata": {},
   "source": [
    "## Informações Gerais\n",
    "\n",
    "- Horário de atendimento: [Segunda, 19:00](https://meet.google.com/nja-ebqd-jni)\n",
    "- Google Meet: [Link das aulas](https://meet.google.com/nja-ebqd-jni)\n",
    "- [Gravação das aulas](https://drive.google.com/drive/folders/1O2nna22km9ymIeZmV9ITalmh46Rins8U)\n",
    "\n",
    "---"
   ]
  },
  {
   "cell_type": "markdown",
   "id": "3b55b743-1189-4739-af72-1715ab78de17",
   "metadata": {},
   "source": [
    "## Recursos de aprendizado\n",
    "\n",
    "### Treinamentos\n",
    "\n",
    "- [AWS - Fundamentos de Análise de Dados](https://www.aws.training/Details/eLearning?id=52812) | [Certificado](training/20210820-AWS_data_analytics_fundamentals_certificate.png)\n",
    "- [AWS - Banco de dados](https://www.aws.training/Details/eLearning?id=72249)\n",
    "- [AWS - Cloud Practitioner Essentials](https://www.aws.training/Details/eLearning?id=62551)\n",
    "- [Khan - Introdução a SQL](https://pt.khanacademy.org/computing/computer-programming/sql)\n",
    "\n",
    "### Tutoriais\n",
    "\n",
    "- [Tutoriais AWS](https://aws.amazon.com/pt/getting-started/hands-on/?awsf.getting-started-category=category%23compute&awsf.getting-started-level=*all&awsf.getting-started-content-type=*all)\n",
    "  1. [Como criar um BD MySQL e se conectar a ele](https://aws.amazon.com/pt/getting-started/hands-on/create-mysql-db/)\n",
    "\n",
    "### Laboratórios\n",
    "\n",
    "1. [Download Workbench](https://dev.mysql.com/downloads/workbench/)\n",
    "1. [SQL - Visão Geral](labs/20210824-D2TEC-lab02-sql_visao_geral.pdf)\n",
    "   - [script sql academico](labs/20210824-D2TEC-lab02-academico.sql)\n",
    "1. [SQL - Subconsultas, views e joins](labs/20210824-D2TEC-lab03-sql_subconsultas_views_joins.pdf)\n",
    "   - [script sql produto](labs/20210824-D2TEC-lab03-produto.sql)\n",
    "\n",
    "### Materiais Extras\n",
    "\n",
    "- Banco de Dados\n",
    "  - [Modelagem de Dados](extra/01-banco_de_dados/modelagem_de_dados.pdf)\n",
    "  - [Normalização](extra/01-banco_de_dados/normalizacao.pdf)\n",
    "  - [Engenharia Reversa do BD Relacional](extra/01-banco_de_dados/engenharia_reversa.pdf)\n",
    "\n",
    "---"
   ]
  },
  {
   "cell_type": "markdown",
   "id": "790156af-74c2-4434-a876-ff281dcd06b0",
   "metadata": {},
   "source": [
    "## Trabalhos\n",
    "\n",
    "- [Trabalho 1: Análise de dados estruturados usando SQL](homeworks/20210831-D2TEC-trabalho_1.pdf)\n",
    "  - [Como conectar Python com banco de dados MySQL?](https://pt.stackoverflow.com/questions/176521/como-conectar-python-com-banco-de-dados-mysql)\n",
    "  - [Connect to MYSQL RDS on AWS using Jupyter Notebook](https://www.youtube.com/watch?v=IlXnCVNQvCA)\n",
    "\n",
    "---"
   ]
  },
  {
   "cell_type": "markdown",
   "id": "2627a283-4418-4deb-97ab-a5b9d8684201",
   "metadata": {},
   "source": [
    "## 17/08/2021 - Aula 01: Visão Geral\n",
    "\n",
    "### Materiais de aula\n",
    "\n",
    "- [Slides: Apresentação da Disciplina e Visão Geral](slides/20210817-D2TEC-aula01-visao_geral.pdf)"
   ]
  },
  {
   "cell_type": "markdown",
   "id": "f7e19744-fd04-4034-8baa-c845764139d1",
   "metadata": {},
   "source": [
    "### Apresentação\n",
    "\n",
    "#### Programa\n",
    "\n",
    "- Disciplina focada em tecnologias associadas ao *Hadoop*\n",
    "\n",
    "#### Avaliação\n",
    "\n",
    "- Dois trabalhos, cada um com peso 2\n",
    "- Projeto Interdisciplinar, peso 5\n",
    "- Frequência, peso 1\n",
    "  - Carga horária em curso, treinamentos etc. Por exemplo: AWS Academy, AWS Educate."
   ]
  },
  {
   "cell_type": "markdown",
   "id": "8c2d82e8-de27-4ac7-a526-f68d412ecf06",
   "metadata": {},
   "source": [
    "### Visão Geral\n",
    "\n",
    "- **Big Data**: Dados grandes ou complexos demais para serem processados em uma única máquina\n",
    "- **Desafioa**: Lidar com *Velocidade*, *Volume* e *Variedade*\n",
    "\n",
    "#### Map Reduce\n",
    "\n",
    "- É uma técnica de programação\n",
    "  - Na fase de **Map** os dados são agrupados pela chave\n",
    "  - Na fase de **Reduce**, é aplicada uma função de agregação"
   ]
  },
  {
   "cell_type": "markdown",
   "id": "075ea414-85e7-4ced-8979-99757cebedeb",
   "metadata": {},
   "source": [
    "## 24/08/2021 - Aula 02: Banco de Dados Relacionais\n",
    "\n",
    "### Materiais de aula\n",
    "\n",
    "- [Slides: Banco de Dados Relacionais](slides/20210824-D2TEC-aula02-banco_de_dados_relacionais.pdf)\n",
    "- [Lab: SQL - Visão Geral](labs/20210824-D2TEC-lab02-sql_visao_geral.pdf)"
   ]
  },
  {
   "cell_type": "markdown",
   "id": "6948892f-a1a9-465d-9aee-1bd4a83a67d6",
   "metadata": {},
   "source": [
    "### Bancos de dados relacionais\n",
    "\n",
    "- Dados **estruturados e normalizados**. Armazenamento em **tabelas**.\n",
    "- Prós\n",
    "  - Dados facilmanete analisáveis\n",
    "  - Estrutura bem definida\n",
    "  - Linguagem **SQL** para fácil armazenamento e recuperação\n",
    "  - Sistemas transacionais - **ACID** (*Atomicity*, *Consistency (Correctness)*, *Isolation*, *Durability*)\n",
    "- Contras\n",
    "  - Falta flexibilidade (estrutura rígida)\n",
    "  - Dificuldade para armazenar dados não estruturados\n",
    "  - Mais difícil escalar\n",
    "  \n",
    "#### Normalização\n",
    "\n",
    "- Conjunto de regras com objetivo de **reduzir a redundância**\n",
    "  - Anomalias de inclusão e exclusão\n",
    "  - Aumentar a confiabilidade\n",
    "  - Melhorar a consistência\n",
    "- Separação das tabelas e manutenção do **relacionamento** através de **chaves** (chave primária e chave estrangeira)\n",
    "  - SGBD garante **integridade referencial**\n",
    "  \n",
    "#### SQL\n",
    "\n",
    "- Definição de dados (DDL): CREATE, ALTER, DROP\n",
    "- Manipulação de dados (DML): INSERT, UPDATE, DELETE\n",
    "- Consulta (QL): junção (JOIN), agregação (GROUP BY), visão (VIEW)"
   ]
  },
  {
   "cell_type": "markdown",
   "id": "a7c98f29-f514-4a08-8f8c-f176e2af3dfe",
   "metadata": {},
   "source": [
    "## 31/08/2021 - Aula 03: Subconsultas, views e joins\n",
    "\n",
    "### Materiais de aula\n",
    "\n",
    "- [Lab: SQL - Subconsultas, views e joins](labs/20210824-D2TEC-lab03-sql_subconsultas_views_joins.pdf)"
   ]
  }
 ],
 "metadata": {
  "kernelspec": {
   "display_name": "Python 3",
   "language": "python",
   "name": "python3"
  },
  "language_info": {
   "codemirror_mode": {
    "name": "ipython",
    "version": 3
   },
   "file_extension": ".py",
   "mimetype": "text/x-python",
   "name": "python",
   "nbconvert_exporter": "python",
   "pygments_lexer": "ipython3",
   "version": "3.9.2"
  }
 },
 "nbformat": 4,
 "nbformat_minor": 5
}
